{
 "cells": [
  {
   "cell_type": "code",
   "execution_count": 1,
   "metadata": {},
   "outputs": [],
   "source": [
    "import python_functions\n",
    "%load_ext autoreload\n",
    "%autoreload 2"
   ]
  },
  {
   "cell_type": "code",
   "execution_count": 2,
   "metadata": {},
   "outputs": [],
   "source": [
    "pilote = \"AdrienM\"\n",
    "main_path  =\"/Users/Adrien/Documents/paramoteur/syride/analyze_traces/syride_traces/\""
   ]
  },
  {
   "cell_type": "code",
   "execution_count": 5,
   "metadata": {},
   "outputs": [
    {
     "name": "stdout",
     "output_type": "stream",
     "text": [
      "Dossiers trouvés, 3 trace(s) déjà téléchargée(s).\n",
      "Scrolling...\n",
      "0 1 2 3 4 5 6 7 8 9 10 11 12 13 14 15 16 17 18 19 58 nouvelles traces trouvées.\n",
      "Réupération des liens (total 58)...\n",
      "0 1 2 3 4 5 6 7 8 9 10 11 12 13 14 15 16 17 18 19 20 21 22 23 24 25 26 27 28 29 30 31 32 33 34 35 36 37 38 39 40 41 42 43 44 45 46 47 48 49 50 51 52 53 54 55 56 57 Téléchargement des traces (total 58)...\n",
      "0 Archive extraite dans le répertoire : 2034397\n",
      "1 Archive extraite dans le répertoire : 2093218\n",
      "2 Archive extraite dans le répertoire : 2002314\n",
      "3 Archive extraite dans le répertoire : 2035366\n",
      "4 Archive extraite dans le répertoire : 2109680\n",
      "5 Archive extraite dans le répertoire : 2069403\n",
      "6 Archive extraite dans le répertoire : 2060033\n",
      "7 Archive extraite dans le répertoire : 1999448\n",
      "8 Archive extraite dans le répertoire : 2114592\n",
      "9 Archive extraite dans le répertoire : 1974182\n",
      "10 Archive extraite dans le répertoire : 1982389\n",
      "11 Archive extraite dans le répertoire : 1921994\n",
      "12 Archive extraite dans le répertoire : 1974327\n",
      "13 Archive extraite dans le répertoire : 2134035\n",
      "14 Archive extraite dans le répertoire : 2014519\n",
      "15 Archive extraite dans le répertoire : 2158463\n",
      "16 Archive extraite dans le répertoire : 2034829\n",
      "17 Archive extraite dans le répertoire : 1982450\n",
      "18 Archive extraite dans le répertoire : 1937044\n",
      "19 Archive extraite dans le répertoire : 2086543\n",
      "20 Archive extraite dans le répertoire : 1956984\n",
      "21 Archive extraite dans le répertoire : 1937112\n",
      "22 Archive extraite dans le répertoire : 1999301\n",
      "23 Archive extraite dans le répertoire : 2107802\n",
      "24 Archive extraite dans le répertoire : 1922020\n",
      "25 Archive extraite dans le répertoire : 2075314\n",
      "26 Archive extraite dans le répertoire : 1934398\n",
      "27 Archive extraite dans le répertoire : 1941511\n",
      "28 Archive extraite dans le répertoire : 2048892\n",
      "29 Archive extraite dans le répertoire : 1914899\n",
      "30 Archive extraite dans le répertoire : 1982498\n",
      "31 Archive extraite dans le répertoire : 2093221\n",
      "32 Archive extraite dans le répertoire : 1998715\n",
      "33 Archive extraite dans le répertoire : 2095770\n",
      "34 Archive extraite dans le répertoire : 2079412\n",
      "35 Archive extraite dans le répertoire : 2034144\n",
      "36 Archive extraite dans le répertoire : 2069352\n",
      "37 Archive extraite dans le répertoire : 1979467\n",
      "38 Archive extraite dans le répertoire : 1926980\n",
      "39 Archive extraite dans le répertoire : 2008979\n",
      "40 Archive extraite dans le répertoire : 2190658\n",
      "41 Archive extraite dans le répertoire : 2044937\n",
      "42 Archive extraite dans le répertoire : 2034368\n",
      "43 Archive extraite dans le répertoire : 2150084\n",
      "44 Archive extraite dans le répertoire : 1934386\n",
      "45 Archive extraite dans le répertoire : 2095088\n",
      "46 Archive extraite dans le répertoire : 2130398\n",
      "47 Archive extraite dans le répertoire : 2028289\n",
      "48 Archive extraite dans le répertoire : 2145204\n",
      "49 Archive extraite dans le répertoire : 2131202\n",
      "50 Archive extraite dans le répertoire : 1994920\n",
      "51 Archive extraite dans le répertoire : 1982769\n",
      "52 Archive extraite dans le répertoire : 2049133\n",
      "53 Archive extraite dans le répertoire : 1916552\n",
      "54 Archive extraite dans le répertoire : 2049088\n",
      "55 Archive extraite dans le répertoire : 2034696\n",
      "56 Archive extraite dans le répertoire : 1926978\n",
      "57 Archive extraite dans le répertoire : 1934421\n"
     ]
    }
   ],
   "source": [
    "python_functions.get_syride_traces(path=main_path, pilot=pilote)"
   ]
  },
  {
   "cell_type": "code",
   "execution_count": null,
   "metadata": {},
   "outputs": [],
   "source": []
  }
 ],
 "metadata": {
  "kernelspec": {
   "display_name": "syride_traces_py39",
   "language": "python",
   "name": "python3"
  },
  "language_info": {
   "codemirror_mode": {
    "name": "ipython",
    "version": 3
   },
   "file_extension": ".py",
   "mimetype": "text/x-python",
   "name": "python",
   "nbconvert_exporter": "python",
   "pygments_lexer": "ipython3",
   "version": "3.9.9"
  },
  "orig_nbformat": 4
 },
 "nbformat": 4,
 "nbformat_minor": 2
}
