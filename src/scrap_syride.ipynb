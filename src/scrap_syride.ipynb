{
 "cells": [
  {
   "cell_type": "code",
   "execution_count": 1,
   "metadata": {},
   "outputs": [],
   "source": [
    "import python_functions\n",
    "import params_scrap_syride\n",
    "\n",
    "import zipfile\n",
    "import os\n",
    "import time\n",
    "import requests\n",
    "import json\n",
    "from selenium import webdriver\n",
    "from selenium.webdriver.chrome.service import Service\n",
    "from selenium.webdriver.common.by import By\n",
    "from selenium.webdriver.chrome.options import Options\n",
    "from selenium.webdriver.common.keys import Keys\n",
    "from selenium.webdriver.remote.webelement import WebElement\n",
    "\n",
    "%load_ext autoreload\n",
    "%autoreload 2"
   ]
  },
  {
   "cell_type": "code",
   "execution_count": 2,
   "metadata": {},
   "outputs": [],
   "source": [
    "pilotes = params_scrap_syride.pilots\n",
    "main_path = params_scrap_syride.main_path"
   ]
  },
  {
   "cell_type": "code",
   "execution_count": 8,
   "metadata": {},
   "outputs": [
    {
     "name": "stdout",
     "output_type": "stream",
     "text": [
      "Dossiers trouvés, 55 trace(s) déjà téléchargée(s).\n"
     ]
    }
   ],
   "source": [
    "path=main_path\n",
    "base_url: str = \"https://www.syride.com/fr/pilotes/\"\n",
    "pilot=\"AdrienM\"\n",
    "pilote=pilot\n",
    "\n",
    "\n",
    "repertoire_pilote = path + pilot\n",
    "list_of_known_traces = python_functions.initiate_search(main_repertoire=repertoire_pilote)\n",
    "known_traces=list_of_known_traces"
   ]
  },
  {
   "cell_type": "code",
   "execution_count": 5,
   "metadata": {},
   "outputs": [],
   "source": [
    "#new_navs, dict_navs = python_functions.get_all_navs(pilote=pilot, known_traces=list_of_known_traces)"
   ]
  },
  {
   "cell_type": "code",
   "execution_count": 6,
   "metadata": {},
   "outputs": [
    {
     "name": "stdout",
     "output_type": "stream",
     "text": [
      "Scrolling (total : 10)...\n",
      "1 2 3 4 5 6 7 8 9 10 \n"
     ]
    }
   ],
   "source": [
    "base_url: str = \"https://www.syride.com/fr/pilotes/\"\n",
    "pilote=pilot\n",
    "known_traces=list_of_known_traces\n",
    "\n",
    "\n",
    "# Configuration de Selenium\n",
    "chrome_options = Options()\n",
    "chrome_options.add_argument(\n",
    "    \"--headless\"\n",
    ")  # Exécuter le navigateur en mode headless (sans interface graphique)\n",
    "# service = Service(\n",
    "#     \"/Users/Adrien/Documents/paramoteur/syride/analyze_traces/chromedriver-mac-x64/chromedriver\"\n",
    "# )\n",
    "# driver = webdriver.Chrome(service=service, options=chrome_options)\n",
    "driver = webdriver.Chrome(options=chrome_options)\n",
    "\n",
    "url = base_url + pilote\n",
    "dict_navs = {}\n",
    "\n",
    "driver.get(url)\n",
    "\n",
    "if len(known_traces) >= 50:\n",
    "    nb_scroll = 5\n",
    "else:\n",
    "    nb_scroll = 10\n",
    "# Faire défiler jusqu'en bas de la page\n",
    "python_functions.scroll_to_bottom(driver, nb_scroll=nb_scroll)\n",
    "\n",
    "activities = driver.find_elements(\n",
    "    By.XPATH, \"//*[contains(@id, 'activite') and string-length(@id)=15]\"\n",
    ")"
   ]
  },
  {
   "cell_type": "code",
   "execution_count": 17,
   "metadata": {},
   "outputs": [
    {
     "name": "stdout",
     "output_type": "stream",
     "text": [
      "1"
     ]
    },
    {
     "name": "stdout",
     "output_type": "stream",
     "text": [
      "photo_gps_element\n",
      "2photo_gps_element\n",
      "3photo_gps_element\n",
      "4photo_gps_element\n",
      "5photo_gps_element\n",
      "6photo_gps_element\n",
      "7photo_gps_element\n",
      "8photo_gps_element\n",
      "9photo_gps_element\n",
      "10photo_gps_element\n",
      "11photo_gps_element\n",
      "12photo_gps_element\n",
      "13photo_gps_element\n",
      "14photo_gps_element\n",
      "15photo_gps_element\n",
      "16photo_gps_element\n",
      "17photo_gps_element\n",
      "18photo_gps_element\n",
      "19photo_gps_element\n",
      "20photo_gps_element\n",
      "21photo_gps_element\n",
      "22photo_gps_element\n",
      "23photo_gps_element\n",
      "24photo_gps_element\n",
      "25photo_gps_element\n",
      "26photo_gps_element\n",
      "27photo_gps_element\n",
      "28photo_gps_element\n",
      "29photo_gps_element\n",
      "30photo_gps_element\n",
      "31photo_gps_element\n",
      "32photo_gps_element\n",
      "33photo_gps_element\n",
      "34photo_gps_element\n",
      "35photo_gps_element\n",
      "36photo_gps_element\n",
      "37photo_gps_element\n",
      "38photo_gps_element\n",
      "39photo_gps_element\n",
      "40photo_gps_element\n",
      "41photo_gps_element\n",
      "42photo_gps_element\n",
      "43photo_gps_element\n",
      "44photo_gps_element\n",
      "45photo_gps_element\n",
      "46photo_gps_element\n",
      "47photo_gps_element\n",
      "48photo_gps_element\n",
      "49photo_gps_element\n",
      "50photo_gps_element\n",
      "51photo_gps_element\n",
      "52photo_gps_element\n",
      "53photo_gps_element\n",
      "54photo_gps_element\n",
      "55photo_gps_element\n",
      "56photo_gps_element\n",
      "57photo_gps_element\n",
      "58photo_gps_element\n",
      "59photo_gps_element\n",
      "60photo_gps_element\n",
      "61photo_gps_element\n",
      "62photo_gps_element\n",
      "63photo_gps_element\n",
      "64"
     ]
    },
    {
     "ename": "TypeError",
     "evalue": "catching classes that do not inherit from BaseException is not allowed",
     "output_type": "error",
     "traceback": [
      "\u001b[0;31m---------------------------------------------------------------------------\u001b[0m",
      "\u001b[0;31mNoSuchElementException\u001b[0m                    Traceback (most recent call last)",
      "File \u001b[0;32m~/Documents/paramoteur/syride/analyze_traces/syride_traces/src/python_functions.py:150\u001b[0m, in \u001b[0;36mget_nav_infos1\u001b[0;34m(activity, pilote)\u001b[0m\n\u001b[1;32m    149\u001b[0m \u001b[39mtry\u001b[39;00m:\n\u001b[0;32m--> 150\u001b[0m     photo_gps_element \u001b[39m=\u001b[39m activity\u001b[39m.\u001b[39;49mfind_element(By\u001b[39m.\u001b[39;49mCLASS_NAME, \u001b[39m\"\u001b[39;49m\u001b[39mphotoGps\u001b[39;49m\u001b[39m\"\u001b[39;49m)\n\u001b[1;32m    151\u001b[0m     \u001b[39mprint\u001b[39m(\u001b[39m\"\u001b[39m\u001b[39mphoto_gps_element\u001b[39m\u001b[39m\"\u001b[39m)\n",
      "File \u001b[0;32m~/Documents/paramoteur/syride/analyze_traces/syride_traces_py39/lib/python3.9/site-packages/selenium/webdriver/remote/webelement.py:417\u001b[0m, in \u001b[0;36mWebElement.find_element\u001b[0;34m(self, by, value)\u001b[0m\n\u001b[1;32m    415\u001b[0m     value \u001b[39m=\u001b[39m \u001b[39mf\u001b[39m\u001b[39m'\u001b[39m\u001b[39m[name=\u001b[39m\u001b[39m\"\u001b[39m\u001b[39m{\u001b[39;00mvalue\u001b[39m}\u001b[39;00m\u001b[39m\"\u001b[39m\u001b[39m]\u001b[39m\u001b[39m'\u001b[39m\n\u001b[0;32m--> 417\u001b[0m \u001b[39mreturn\u001b[39;00m \u001b[39mself\u001b[39;49m\u001b[39m.\u001b[39;49m_execute(Command\u001b[39m.\u001b[39;49mFIND_CHILD_ELEMENT, {\u001b[39m\"\u001b[39;49m\u001b[39musing\u001b[39;49m\u001b[39m\"\u001b[39;49m: by, \u001b[39m\"\u001b[39;49m\u001b[39mvalue\u001b[39;49m\u001b[39m\"\u001b[39;49m: value})[\u001b[39m\"\u001b[39m\u001b[39mvalue\u001b[39m\u001b[39m\"\u001b[39m]\n",
      "File \u001b[0;32m~/Documents/paramoteur/syride/analyze_traces/syride_traces_py39/lib/python3.9/site-packages/selenium/webdriver/remote/webelement.py:395\u001b[0m, in \u001b[0;36mWebElement._execute\u001b[0;34m(self, command, params)\u001b[0m\n\u001b[1;32m    394\u001b[0m params[\u001b[39m\"\u001b[39m\u001b[39mid\u001b[39m\u001b[39m\"\u001b[39m] \u001b[39m=\u001b[39m \u001b[39mself\u001b[39m\u001b[39m.\u001b[39m_id\n\u001b[0;32m--> 395\u001b[0m \u001b[39mreturn\u001b[39;00m \u001b[39mself\u001b[39;49m\u001b[39m.\u001b[39;49m_parent\u001b[39m.\u001b[39;49mexecute(command, params)\n",
      "File \u001b[0;32m~/Documents/paramoteur/syride/analyze_traces/syride_traces_py39/lib/python3.9/site-packages/selenium/webdriver/remote/webdriver.py:346\u001b[0m, in \u001b[0;36mWebDriver.execute\u001b[0;34m(self, driver_command, params)\u001b[0m\n\u001b[1;32m    345\u001b[0m \u001b[39mif\u001b[39;00m response:\n\u001b[0;32m--> 346\u001b[0m     \u001b[39mself\u001b[39;49m\u001b[39m.\u001b[39;49merror_handler\u001b[39m.\u001b[39;49mcheck_response(response)\n\u001b[1;32m    347\u001b[0m     response[\u001b[39m\"\u001b[39m\u001b[39mvalue\u001b[39m\u001b[39m\"\u001b[39m] \u001b[39m=\u001b[39m \u001b[39mself\u001b[39m\u001b[39m.\u001b[39m_unwrap_value(response\u001b[39m.\u001b[39mget(\u001b[39m\"\u001b[39m\u001b[39mvalue\u001b[39m\u001b[39m\"\u001b[39m, \u001b[39mNone\u001b[39;00m))\n",
      "File \u001b[0;32m~/Documents/paramoteur/syride/analyze_traces/syride_traces_py39/lib/python3.9/site-packages/selenium/webdriver/remote/errorhandler.py:245\u001b[0m, in \u001b[0;36mErrorHandler.check_response\u001b[0;34m(self, response)\u001b[0m\n\u001b[1;32m    244\u001b[0m     \u001b[39mraise\u001b[39;00m exception_class(message, screen, stacktrace, alert_text)  \u001b[39m# type: ignore[call-arg]  # mypy is not smart enough here\u001b[39;00m\n\u001b[0;32m--> 245\u001b[0m \u001b[39mraise\u001b[39;00m exception_class(message, screen, stacktrace)\n",
      "\u001b[0;31mNoSuchElementException\u001b[0m: Message: no such element: Unable to locate element: {\"method\":\"css selector\",\"selector\":\".photoGps\"}\n  (Session info: headless chrome=115.0.5790.114); For documentation on this error, please visit: https://www.selenium.dev/documentation/webdriver/troubleshooting/errors#no-such-element-exception\nStacktrace:\n0   chromedriver                        0x000000010686e6b8 chromedriver + 4937400\n1   chromedriver                        0x0000000106865b73 chromedriver + 4901747\n2   chromedriver                        0x0000000106423616 chromedriver + 435734\n3   chromedriver                        0x0000000106466e0f chromedriver + 712207\n4   chromedriver                        0x00000001064670a1 chromedriver + 712865\n5   chromedriver                        0x000000010645aae6 chromedriver + 662246\n6   chromedriver                        0x000000010648b03d chromedriver + 860221\n7   chromedriver                        0x000000010645a9c1 chromedriver + 661953\n8   chromedriver                        0x000000010648b1ce chromedriver + 860622\n9   chromedriver                        0x00000001064a5e76 chromedriver + 970358\n10  chromedriver                        0x000000010648ade3 chromedriver + 859619\n11  chromedriver                        0x0000000106458d7f chromedriver + 654719\n12  chromedriver                        0x000000010645a0de chromedriver + 659678\n13  chromedriver                        0x000000010682a2ad chromedriver + 4657837\n14  chromedriver                        0x000000010682f130 chromedriver + 4677936\n15  chromedriver                        0x0000000106835def chromedriver + 4705775\n16  chromedriver                        0x000000010683005a chromedriver + 4681818\n17  chromedriver                        0x000000010680292c chromedriver + 4495660\n18  chromedriver                        0x000000010684d838 chromedriver + 4802616\n19  chromedriver                        0x000000010684d9b7 chromedriver + 4802999\n20  chromedriver                        0x000000010685e99f chromedriver + 4872607\n21  libsystem_pthread.dylib             0x00007ff8133081d3 _pthread_start + 125\n22  libsystem_pthread.dylib             0x00007ff813303bd3 thread_start + 15\n",
      "\nDuring handling of the above exception, another exception occurred:\n",
      "\u001b[0;31mTypeError\u001b[0m                                 Traceback (most recent call last)",
      "Cell \u001b[0;32mIn[17], line 3\u001b[0m\n\u001b[1;32m      1\u001b[0m \u001b[39mfor\u001b[39;00m i, activity \u001b[39min\u001b[39;00m \u001b[39menumerate\u001b[39m(activities):\n\u001b[1;32m      2\u001b[0m     \u001b[39mprint\u001b[39m(i\u001b[39m+\u001b[39m\u001b[39m1\u001b[39m, end\u001b[39m=\u001b[39m\u001b[39m\"\u001b[39m\u001b[39m\"\u001b[39m, flush\u001b[39m=\u001b[39m\u001b[39mTrue\u001b[39;00m)\n\u001b[0;32m----> 3\u001b[0m     num_activite, dict_activity \u001b[39m=\u001b[39m python_functions\u001b[39m.\u001b[39;49mget_nav_infos1(\n\u001b[1;32m      4\u001b[0m         activity\u001b[39m=\u001b[39;49mactivity, pilote\u001b[39m=\u001b[39;49mpilote\n\u001b[1;32m      5\u001b[0m     )\n\u001b[1;32m      6\u001b[0m     dict_navs[\u001b[39mf\u001b[39m\u001b[39m\"\u001b[39m\u001b[39m{\u001b[39;00mnum_activite\u001b[39m}\u001b[39;00m\u001b[39m\"\u001b[39m] \u001b[39m=\u001b[39m dict_activity\n\u001b[1;32m      7\u001b[0m \u001b[39mprint\u001b[39m(\u001b[39m\"\u001b[39m\u001b[39m\"\u001b[39m)\n",
      "File \u001b[0;32m~/Documents/paramoteur/syride/analyze_traces/syride_traces/src/python_functions.py:156\u001b[0m, in \u001b[0;36mget_nav_infos1\u001b[0;34m(activity, pilote)\u001b[0m\n\u001b[1;32m    152\u001b[0m     photo_gps_url \u001b[39m=\u001b[39m get_filename_without_extension(\n\u001b[1;32m    153\u001b[0m         photo_gps_element\u001b[39m.\u001b[39mget_attribute(\u001b[39m\"\u001b[39m\u001b[39msrc\u001b[39m\u001b[39m\"\u001b[39m)\n\u001b[1;32m    154\u001b[0m     )\n\u001b[1;32m    155\u001b[0m     is_trace \u001b[39m=\u001b[39m \u001b[39mTrue\u001b[39;00m\n\u001b[0;32m--> 156\u001b[0m \u001b[39mexcept\u001b[39;00m se_exceptions:  \u001b[39m# (NoSuchElementException, StaleElementReferenceException):\u001b[39;00m\n\u001b[1;32m    157\u001b[0m     \u001b[39mprint\u001b[39m(\u001b[39m\"\u001b[39m\u001b[39m\"\u001b[39m, \u001b[39m\"\u001b[39m\u001b[39m\\n\u001b[39;00m\u001b[39m\"\u001b[39m, \u001b[39mprint\u001b[39m(traceback\u001b[39m.\u001b[39mformat_exc()))\n\u001b[1;32m    158\u001b[0m     photo_gps_url \u001b[39m=\u001b[39m \u001b[39m\"\u001b[39m\u001b[39mNone\u001b[39m\u001b[39m\"\u001b[39m\n",
      "\u001b[0;31mTypeError\u001b[0m: catching classes that do not inherit from BaseException is not allowed"
     ]
    }
   ],
   "source": [
    "for i, activity in enumerate(activities):\n",
    "    print(i+1, end=\"\", flush=True)\n",
    "    num_activite, dict_activity = python_functions.get_nav_infos1(\n",
    "        activity=activity, pilote=pilote\n",
    "    )\n",
    "    dict_navs[f\"{num_activite}\"] = dict_activity\n",
    "print(\"\")"
   ]
  },
  {
   "cell_type": "code",
   "execution_count": null,
   "metadata": {},
   "outputs": [],
   "source": []
  },
  {
   "cell_type": "code",
   "execution_count": null,
   "metadata": {},
   "outputs": [],
   "source": [
    "for activity in activities:\n",
    "    try:\n",
    "        num_activite, dict_activity = python_functions.get_nav_infos1(\n",
    "            activity=activity, pilote=pilote\n",
    "        )\n",
    "        dict_navs[f\"{num_activite}\"] = dict_activity\n",
    "    except:\n",
    "        print(activity)\n",
    "        pass\n",
    "\n",
    "dict_navs = {\n",
    "    key: value for key, value in dict_navs.items() if key not in known_traces\n",
    "}\n",
    "\n",
    "final_list = list(set(dict_navs.keys()))\n",
    "\n",
    "print(f\"{len(final_list)} nouvelles traces trouvées.\")\n",
    "\n",
    "#driver.quit()"
   ]
  },
  {
   "cell_type": "code",
   "execution_count": null,
   "metadata": {},
   "outputs": [],
   "source": []
  },
  {
   "cell_type": "code",
   "execution_count": null,
   "metadata": {},
   "outputs": [],
   "source": []
  },
  {
   "cell_type": "code",
   "execution_count": null,
   "metadata": {},
   "outputs": [],
   "source": [
    "if len(new_navs) > 0:\n",
    "    print(f\"Réupération des liens (total {len(new_navs)})...\")\n",
    "    dict_links = python_functions.get_zip_adresses(pilote=pilot, traces=new_navs)\n",
    "\n",
    "    print(\"\")\n",
    "    print(f\"Téléchargement des traces (total {len(dict_links)})...\")\n",
    "    for i, dict_item in enumerate(dict_links.items()):\n",
    "        nav = dict_item[0]\n",
    "        link = dict_item[1]\n",
    "        print(f\"{i+1} \", end=\"\", flush=True)\n",
    "        python_functions.download_traces(main_repertoire=repertoire_pilote, nav=nav, link=link)\n",
    "else:\n",
    "    print(\"Pas de nouvelles traces a telecharger.\")"
   ]
  },
  {
   "cell_type": "code",
   "execution_count": null,
   "metadata": {},
   "outputs": [],
   "source": []
  },
  {
   "cell_type": "code",
   "execution_count": null,
   "metadata": {},
   "outputs": [],
   "source": []
  },
  {
   "cell_type": "code",
   "execution_count": 3,
   "metadata": {},
   "outputs": [],
   "source": [
    "from pykml import parser"
   ]
  },
  {
   "cell_type": "code",
   "execution_count": 8,
   "metadata": {},
   "outputs": [],
   "source": [
    "kml_file = \"/Users/Adrien/Documents/paramoteur/syride/analyze_traces/syride_traces/AdrienM/traces/1914899/1914899.kml\"\n",
    "with open(kml_file, 'r') as f:\n",
    "    root = parser.parse(f)\n"
   ]
  },
  {
   "cell_type": "code",
   "execution_count": null,
   "metadata": {},
   "outputs": [],
   "source": [
    "from lxml import etree\n",
    "\n",
    "# Charger le contenu du fichier .kml avec lxml\n",
    "with open(kml_file, 'r') as f:\n",
    "    doc = etree.parse(f)\n",
    "\n",
    "# Définir les espaces de noms utilisés dans le fichier .kml\n",
    "namespaces = {\n",
    "    'kml': 'http://www.opengis.net/kml/2.2',\n",
    "}\n",
    "\n",
    "# Parcourir et explorer les données\n",
    "for placemark in doc.findall('.//kml:Document', namespaces=namespaces):\n",
    "    name_element = placemark.find('kml:name', namespaces=namespaces)\n",
    "    name = name_element.text if name_element is not None else \"Pas de nom\"\n",
    "\n",
    "    description_element = placemark.find('kml:Style/kml:LineStyle/kml:color', namespaces=namespaces)\n",
    "    description = description_element.text if description_element is not None else \"Pas de description\"\n",
    "\n",
    "    point_element = placemark.find('kml:Placemark/kml:LineString/kml:coordinates', namespaces=namespaces)\n",
    "    coordinates = point_element.text if point_element is not None else \"Pas de coordonnées\"\n",
    "\n",
    "    print(f\"Nom : {name}\")\n",
    "    print(f\"Couleur de la ligne : {description}\")\n",
    "    print(f\"Coordonnées : {coordinates}\\n\")\n"
   ]
  },
  {
   "cell_type": "code",
   "execution_count": 85,
   "metadata": {},
   "outputs": [
    {
     "data": {
      "text/plain": [
       "'Pas de coordonnées'"
      ]
     },
     "execution_count": 85,
     "metadata": {},
     "output_type": "execute_result"
    }
   ],
   "source": [
    "coordinates"
   ]
  },
  {
   "cell_type": "code",
   "execution_count": 68,
   "metadata": {},
   "outputs": [
    {
     "name": "stdout",
     "output_type": "stream",
     "text": [
      "Flight of Adrien Moreau recorded with Syride 1420171135\n"
     ]
    },
    {
     "data": {
      "text/html": [
       "<div>\n",
       "<style scoped>\n",
       "    .dataframe tbody tr th:only-of-type {\n",
       "        vertical-align: middle;\n",
       "    }\n",
       "\n",
       "    .dataframe tbody tr th {\n",
       "        vertical-align: top;\n",
       "    }\n",
       "\n",
       "    .dataframe thead th {\n",
       "        text-align: right;\n",
       "    }\n",
       "</style>\n",
       "<table border=\"1\" class=\"dataframe\">\n",
       "  <thead>\n",
       "    <tr style=\"text-align: right;\">\n",
       "      <th></th>\n",
       "      <th>Name</th>\n",
       "      <th>Description</th>\n",
       "      <th>geometry</th>\n",
       "    </tr>\n",
       "  </thead>\n",
       "  <tbody>\n",
       "    <tr>\n",
       "      <th>0</th>\n",
       "      <td></td>\n",
       "      <td></td>\n",
       "      <td>LINESTRING Z (0.17093 45.55932 150.00000, 0.17...</td>\n",
       "    </tr>\n",
       "  </tbody>\n",
       "</table>\n",
       "</div>"
      ],
      "text/plain": [
       "  Name Description                                           geometry\n",
       "0                   LINESTRING Z (0.17093 45.55932 150.00000, 0.17..."
      ]
     },
     "execution_count": 68,
     "metadata": {},
     "output_type": "execute_result"
    }
   ],
   "source": [
    "import geopandas as gpd\n",
    "import fiona\n",
    "import pandas as pd\n",
    "\n",
    "fiona.drvsupport.supported_drivers['libkml'] = 'rw'\n",
    "fiona.drvsupport.supported_drivers['LIBKML'] = 'rw'\n",
    "fiona.drvsupport.supported_drivers['kml'] = 'rw'\n",
    "fiona.drvsupport.supported_drivers['KML'] = 'rw'\n",
    "\n",
    "gdf_list = []\n",
    "for layer in fiona.listlayers(kml_file):  \n",
    "    print(layer)\n",
    "    gdf = gpd.read_file(kml_file, driver='LIBKML', layer=layer)\n",
    "    gdf_list.append(gdf)\n",
    "\n",
    "gdf = gpd.GeoDataFrame(pd.concat(gdf_list, ignore_index=True))\n",
    "gdf"
   ]
  },
  {
   "cell_type": "code",
   "execution_count": 82,
   "metadata": {},
   "outputs": [
    {
     "data": {
      "image/svg+xml": [
       "<svg xmlns=\"http://www.w3.org/2000/svg\" xmlns:xlink=\"http://www.w3.org/1999/xlink\" width=\"100.0\" height=\"100.0\" viewBox=\"0.17009368000000005 45.55449368 0.006629639999999909 0.00872963999999854\" preserveAspectRatio=\"xMinYMin meet\"><g transform=\"matrix(1,0,0,-1,0,91.117717)\"><polyline fill=\"none\" stroke=\"#66cc99\" stroke-width=\"0.00017459279999997078\" points=\"0.170933,45.559317 0.170883,45.55925 0.170783,45.559083 0.170633,45.5589 0.170583,45.5588 0.170533,45.558717 0.170483,45.558633 0.170467,45.55855 0.170433,45.55845 0.170417,45.558367 0.170433,45.558283 0.17045,45.5582 0.170467,45.5581 0.170483,45.558017 0.170483,45.557917 0.1705,45.55785 0.170533,45.5577 0.170567,45.557633 0.1706,45.55755 0.170633,45.55745 0.17075,45.55725 0.170817,45.557067 0.170817,45.5569 0.170817,45.5567 0.17085,45.5565 0.17085,45.556417 0.17085,45.556317 0.170833,45.556233 0.170833,45.55615 0.17085,45.556083 0.170867,45.556017 0.170867,45.55595 0.170867,45.555883 0.1709,45.555833 0.17095,45.5558 0.17105,45.555767 0.171133,45.555767 0.171283,45.555667 0.17135,45.555583 0.171417,45.555517 0.1715,45.55545 0.1716,45.555417 0.171667,45.555367 0.171717,45.5553 0.171717,45.55525 0.1717,45.5552 0.171717,45.555183 0.171783,45.555183 0.171883,45.5552 0.171983,45.555183 0.17205,45.555167 0.172133,45.5551 0.17215,45.555067 0.172183,45.55505 0.172217,45.555017 0.17225,45.554967 0.172283,45.554933 0.172333,45.5549 0.172383,45.554883 0.172467,45.554883 0.17255,45.554883 0.17265,45.554883 0.172733,45.55485 0.172817,45.554833 0.172917,45.554817 0.173,45.554817 0.173067,45.554833 0.173133,45.554833 0.173183,45.554833 0.1733,45.554817 0.173383,45.554833 0.173483,45.554867 0.173567,45.5549 0.173667,45.55495 0.173733,45.554983 0.1738,45.555033 0.173867,45.555067 0.174,45.55515 0.174067,45.555183 0.174133,45.5552 0.1742,45.555217 0.17425,45.555233 0.174317,45.55525 0.174383,45.555267 0.174433,45.555283 0.1745,45.5553 0.1746,45.555317 0.17465,45.555317 0.1747,45.5553 0.17475,45.555317 0.1748,45.555333 0.17485,45.55535 0.174883,45.55535 0.174917,45.55535 0.174967,45.55535 0.175017,45.55535 0.175117,45.55535 0.175167,45.555333 0.175183,45.555317 0.1752,45.5553 0.175217,45.555283 0.17525,45.555267 0.175283,45.55525 0.1753,45.555233 0.1753,45.555217 0.1753,45.555183 0.175317,45.555167 0.175333,45.555167 0.17535,45.555167 0.175433,45.555117 0.17545,45.555083 0.175417,45.555 0.175383,45.554983 0.175367,45.55495 0.17535,45.554917 0.175317,45.5549 0.175283,45.554883 0.1753,45.554867 0.175367,45.55495 0.1754,45.554983 0.17545,45.555017 0.175483,45.55505 0.175533,45.5551 0.175583,45.555133 0.175617,45.55515 0.17565,45.555167 0.175683,45.555183 0.1757,45.5552 0.175733,45.555217 0.175783,45.555233 0.1758,45.55525 0.175817,45.55525 0.175833,45.555267 0.17585,45.555267 0.175867,45.55525 0.17585,45.555233 0.17585,45.555233 0.175867,45.555233 0.17585,45.555217 0.175833,45.555217 0.175817,45.555217 0.1758,45.5552 0.175783,45.555183 0.175767,45.555167 0.17575,45.555167 0.175717,45.555167 0.1757,45.55515 0.175683,45.55515 0.175667,45.55515 0.17565,45.55515 0.175633,45.555133 0.17555,45.555117 0.175533,45.555117 0.1755,45.5551 0.175467,45.5551 0.175433,45.555083 0.1754,45.555083 0.175383,45.555083 0.175367,45.555083 0.1754,45.555167 0.175467,45.55525 0.175533,45.555367 0.1756,45.5555 0.175633,45.555667 0.17565,45.55585 0.175667,45.556033 0.1757,45.5562 0.17575,45.556367 0.175867,45.556683 0.175917,45.556833 0.175967,45.557 0.176017,45.557167 0.176083,45.557317 0.176133,45.557467 0.1762,45.557617 0.17625,45.557767 0.1763,45.557933 0.176333,45.558083 0.176383,45.55825 0.1764,45.558417 0.1764,45.5586 0.176367,45.558817 0.176333,45.559017 0.176217,45.55945 0.17615,45.55965 0.176067,45.55985 0.176,45.560067 0.175917,45.560267 0.175833,45.560483 0.175733,45.5607 0.175633,45.5609 0.1755,45.5611 0.175367,45.5613 0.1752,45.5615 0.175017,45.561667 0.174817,45.561833 0.1746,45.561983 0.174383,45.562117 0.174167,45.56225 0.173733,45.5625 0.173517,45.5626 0.173283,45.5627 0.173017,45.56275 0.172767,45.5628 0.172533,45.562817 0.172317,45.56285 0.172117,45.562867 0.171933,45.5629 0.171733,45.5629 0.17155,45.5629 0.171367,45.562867 0.1712,45.562833 0.171033,45.562817 0.170883,45.562783 0.170783,45.56275 0.170683,45.562717 0.170617,45.562667 0.170567,45.562617 0.170517,45.56255 0.1705,45.562517 0.1705,45.562467 0.170483,45.562433 0.170467,45.562383 0.170467,45.562333 0.170467,45.5623 0.170467,45.562267 0.170467,45.562233 0.1705,45.562217 0.170533,45.5622 0.170583,45.562217 0.17065,45.562217 0.1708,45.562233 0.170867,45.562217 0.170933,45.5622 0.171017,45.5622 0.171083,45.5622 0.17115,45.5622 0.171217,45.562183 0.171267,45.562183 0.171317,45.56215 0.1714,45.5621 0.17145,45.562067 0.1715,45.562033 0.17155,45.561983 0.171717,45.561883 0.171783,45.56185 0.17185,45.561833 0.1719,45.561783 0.17195,45.56175 0.171983,45.5617 0.172033,45.561667 0.1721,45.561633 0.172167,45.5616 0.172233,45.561583 0.172317,45.56155 0.172383,45.561517 0.172417,45.561467 0.17245,45.561433 0.172483,45.561417 0.172533,45.5614 0.172567,45.561367 0.172617,45.561283 0.172633,45.56125 0.17265,45.5612 0.172667,45.56115 0.172667,45.5611 0.172683,45.561067 0.1727,45.561017 0.172717,45.56095 0.172733,45.5609 0.172733,45.56085 0.172733,45.560783 0.172733,45.56075 0.172767,45.5607 0.172817,45.56065 0.17285,45.560583 0.172833,45.5605 0.172817,45.5604 0.172767,45.560333 0.172617,45.560233 0.172517,45.560217 0.172367,45.560233 0.172217,45.560283 0.1721,45.5604 0.172033,45.560533 0.17195,45.560633 0.171817,45.560683 0.171667,45.560667 0.171517,45.560583 0.171417,45.5605 0.171367,45.560433 0.171367,45.56035 0.1714,45.56025 0.1714,45.56015 0.171383,45.56005 0.171333,45.55995 0.171267,45.559867 0.1712,45.559783 0.171083,45.559667 0.171017,45.559617 0.170967,45.559583 0.17095,45.55955 0.170933,45.559517 0.170917,45.5595 0.1709,45.559483 0.1709,45.559483 0.1709,45.559483 0.1709,45.559483 0.170883,45.559483 0.170883,45.559483 0.1709,45.559483 0.1709,45.559483 0.1709,45.559483 0.1709,45.559483 0.1709,45.559483 0.1709,45.559483 0.1709,45.559483 0.1709,45.559483 0.1709,45.559483 0.1709,45.559483 0.1709,45.559483 0.1709,45.559483 0.1709,45.559483 0.1709,45.559483 0.1709,45.5595 0.170917,45.559517 0.170917,45.559533 0.170917,45.559533 0.170933,45.55955 0.170933,45.55955 0.170933,45.559567 0.170933,45.559583 0.170933,45.5596 0.170933,45.5596 0.170933,45.559617 0.170933,45.559633 0.170933,45.55965 0.170933,45.559667 0.170933,45.559667\" opacity=\"0.8\" /></g></svg>"
      ],
      "text/plain": [
       "<LINESTRING Z (0.171 45.559 150, 0.171 45.559 153, 0.171 45.559 156, 0.171 4...>"
      ]
     },
     "execution_count": 82,
     "metadata": {},
     "output_type": "execute_result"
    }
   ],
   "source": [
    "#help(gdf.geometry)\n",
    "gdf_list[0].iloc[0]['geometry']"
   ]
  },
  {
   "cell_type": "code",
   "execution_count": null,
   "metadata": {},
   "outputs": [],
   "source": []
  },
  {
   "cell_type": "code",
   "execution_count": null,
   "metadata": {},
   "outputs": [],
   "source": []
  },
  {
   "cell_type": "code",
   "execution_count": null,
   "metadata": {},
   "outputs": [],
   "source": []
  },
  {
   "cell_type": "code",
   "execution_count": null,
   "metadata": {},
   "outputs": [],
   "source": []
  },
  {
   "cell_type": "code",
   "execution_count": null,
   "metadata": {},
   "outputs": [],
   "source": []
  },
  {
   "cell_type": "code",
   "execution_count": 3,
   "metadata": {},
   "outputs": [],
   "source": [
    "import zipfile\n",
    "import os\n",
    "import time\n",
    "import requests\n",
    "from selenium import webdriver\n",
    "from selenium.webdriver.chrome.service import Service\n",
    "from selenium.webdriver.common.by import By\n",
    "from selenium.webdriver.chrome.options import Options\n",
    "from selenium.webdriver.common.keys import Keys\n",
    "from selenium.webdriver.remote.webelement import WebElement"
   ]
  },
  {
   "cell_type": "code",
   "execution_count": 4,
   "metadata": {},
   "outputs": [],
   "source": [
    "def extract_site(text:str) -> str:\n",
    "    # Trouver l'index du premier \"à\" dans la chaîne\n",
    "    index_de_a = text.find(\"à\")\n",
    "\n",
    "    # Trouver l'index de la première parenthèse ouvrante \"(\" après le premier \"à\"\n",
    "    index_premiere_parenthese = text.find(\"(\", index_de_a)\n",
    "\n",
    "    # Extraire le texte entre le premier \"à\" et la première parenthèse\n",
    "    texte_extrait = text[index_de_a + 1 : index_premiere_parenthese].strip()\n",
    "\n",
    "    return(texte_extrait)\n",
    "\n",
    "def extract_date_heure(date_h_data:str, date_hour:str) -> str:\n",
    "    date_h_temp = date_h_data.split(\":\")[1]\n",
    "    date_h = date_h_temp.split(\" \")\n",
    "    if date_hour == \"date\":\n",
    "        return date_h[1]\n",
    "    else:\n",
    "        return date_h[3]\n",
    "\n",
    "def extract_flight_data(data:list) -> str:\n",
    "\n",
    "    def extract_flight_time(fl_time_data:str) -> str:\n",
    "        fl_time_temp = fl_time_data.split(\":\")[1:]\n",
    "        fl_time = fl_time_temp[0] + \":\" + fl_time_temp[1] + \":\" + fl_time_temp[2]\n",
    "        return fl_time[1:-1]\n",
    "\n",
    "    def extract_voile(voile_data:str) -> str:\n",
    "        voile_data_temp = voile_data.split(\":\")[1]\n",
    "        index_premiere_parenthese = voile_data_temp.find(\"(\")\n",
    "        voile = voile_data_temp[1:index_premiere_parenthese-1]\n",
    "        return voile\n",
    "\n",
    "    def extract_distance(distance_data:str) -> str:\n",
    "        distance_data_temp = distance_data.split(\":\")[1]\n",
    "        distance = distance_data_temp[1:-2]\n",
    "        return distance\n",
    "\n",
    "    def extract_alt_max(altitude_data:str) -> str:\n",
    "        altitude_data_temp = altitude_data.split(\":\")[1]\n",
    "        altitude = altitude_data_temp[1:-1]\n",
    "        return altitude\n",
    "\n",
    "    def extract_instrument(instrument_data:str) -> str:\n",
    "        instrument_data_temp = instrument_data.split(\":\")[1]\n",
    "        index_premiere_parenthese = instrument_data_temp.find(\"(\")\n",
    "        instrument = instrument_data_temp[1:index_premiere_parenthese-1]\n",
    "        return instrument\n",
    "\n",
    "    date = extract_date_heure(date_h_data=data[1], date_hour=\"date\")\n",
    "    heure = extract_date_heure(date_h_data=data[1], date_hour=\"heure\")\n",
    "    flight_time = extract_flight_time(fl_time_data=data[2])\n",
    "    voile = extract_voile(voile_data=data[3])\n",
    "    distance = extract_distance(distance_data=data[4])\n",
    "    altitude = extract_alt_max(altitude_data = data[5])\n",
    "    instrument = extract_instrument(instrument_data = data[6])\n",
    "    \n",
    "    return date, heure, flight_time, voile, distance, altitude, instrument\n",
    "\n",
    "def get_nav_infos1(activity: WebElement):\n",
    "    resultats={}\n",
    "    # Trouver la div avec la classe \"dateActivite\" à l'intérieur de l'activité\n",
    "    date_activite = activity.find_element(By.CLASS_NAME, \"dateActivite\").text\n",
    "\n",
    "    # Trouver l'élément avec la classe \"photoGps\" à l'intérieur de l'activité\n",
    "    photo_gps_element = activity.find_element(By.CLASS_NAME, \"photoGps\")\n",
    "    photo_gps_url = python_functions.get_filename_without_extension(photo_gps_element.get_attribute(\"src\"))\n",
    "\n",
    "    # Trouver l'élément dont l'id commence par \"type\" et est suivi de 7 chiffres à l'intérieur de l'activité\n",
    "    elements_type = activity.find_element(By.XPATH, \"//*[starts-with(@id, 'type') and string-length(@id)=11]\").text\n",
    "\n",
    "    site_name = extract_site(activity.find_element(By.XPATH, \"//*[starts-with(@id, 'site') and string-length(@id)=11]\").text)\n",
    "\n",
    "    ul_element = activity.find_elements(By.XPATH, \".//ul\")\n",
    "    liste_data = [element.text for element in ul_element]\n",
    "\n",
    "    date, heure, flight_time, voile, distance, altitude, instrument = extract_flight_data(data=liste_data)\n",
    "\n",
    "    # Parcourir les éléments \"type\" trouvés et récupérer leur texte\n",
    "    #types = [element.text for element in elements_type]\n",
    "\n",
    "    # # Ajouter les informations de l'activité au dict des résultats\n",
    "    resultats[\"num_activite\"] = photo_gps_url\n",
    "    resultats[\"types\"] = elements_type\n",
    "    resultats[\"site\"] = site_name\n",
    "    resultats[\"date\"] = date\n",
    "    resultats[\"heure\"] = heure\n",
    "    resultats[\"flight_time\"] = flight_time\n",
    "    resultats[\"voile\"] = voile\n",
    "    resultats[\"distance\"] = distance\n",
    "    resultats[\"altitude\"] = altitude\n",
    "    resultats[\"instrument\"] = instrument\n",
    "\n",
    "    return photo_gps_url, resultats"
   ]
  },
  {
   "cell_type": "code",
   "execution_count": 25,
   "metadata": {},
   "outputs": [
    {
     "name": "stdout",
     "output_type": "stream",
     "text": [
      "Scrolling (total : 5)...\n",
      "1 2 3 4 5 \n"
     ]
    }
   ],
   "source": [
    "base_url = \"https://www.syride.com/fr/pilotes/\"\n",
    "pilote=\"AdrienM\"\n",
    "chrome_options = Options()\n",
    "chrome_options.add_argument(\n",
    "    \"--headless\"\n",
    ")\n",
    "driver = webdriver.Chrome(options=chrome_options)\n",
    "\n",
    "url = base_url + pilote\n",
    "list_img_names = []\n",
    "resultats = []\n",
    "\n",
    "driver.get(url)\n",
    "\n",
    "if len(known_traces)>=50:\n",
    "    nb_scroll = 5\n",
    "else:\n",
    "    nb_scroll = 40\n",
    "# Faire défiler jusqu'en bas de la page\n",
    "python_functions.scroll_to_bottom(driver, nb_scroll=nb_scroll)\n",
    "\n",
    "#activities = driver.find_elements(By.CLASS_NAME , \"boxno\")\n",
    "activities = driver.find_elements(By.XPATH, \"//*[contains(@id, 'activite') and string-length(@id)=15]\")\n",
    "\n",
    "dict_navs = {}\n",
    "for activity in activities:\n",
    "    num_activite, dict_activity = python_functions.get_nav_infos1(activity=activity, pilote=pilote)\n",
    "    dict_navs[f\"{num_activite}\"] = dict_activity\n",
    "\n",
    "dict_navs = {key: value for key, value in dict_navs.items() if key not in known_traces}\n"
   ]
  },
  {
   "cell_type": "code",
   "execution_count": 31,
   "metadata": {},
   "outputs": [
    {
     "data": {
      "text/plain": [
       "['Publié le 30/07/2023 - 10h03',\n",
       " '0',\n",
       " 'Vol moteur à Magnac Lavalette Treuil ( France / Nouvelle-Aquitaine)',\n",
       " 'Nom du vol : 30-07-2023',\n",
       " 'Date : 30/07/2023 - 08h43',\n",
       " 'Temps de vol : 01:18:53s',\n",
       " 'Voile utilisée : Daytona (ITV )',\n",
       " 'Distance parcourue : 39km',\n",
       " 'Altitude maximum : 782m',\n",
       " 'Instrument utilisé : Evolution (v2.93)']"
      ]
     },
     "execution_count": 31,
     "metadata": {},
     "output_type": "execute_result"
    }
   ],
   "source": [
    "text00 = activities[0].text.split(\"\\n\")\n",
    "text00"
   ]
  },
  {
   "cell_type": "code",
   "execution_count": 30,
   "metadata": {},
   "outputs": [
    {
     "data": {
      "text/plain": [
       "'P'"
      ]
     },
     "execution_count": 30,
     "metadata": {},
     "output_type": "execute_result"
    }
   ],
   "source": [
    "text00[0]"
   ]
  },
  {
   "cell_type": "code",
   "execution_count": null,
   "metadata": {},
   "outputs": [],
   "source": []
  },
  {
   "cell_type": "code",
   "execution_count": null,
   "metadata": {},
   "outputs": [],
   "source": []
  },
  {
   "cell_type": "code",
   "execution_count": 14,
   "metadata": {},
   "outputs": [
    {
     "name": "stdout",
     "output_type": "stream",
     "text": [
      "Dossiers trouvés, 55 trace(s) déjà téléchargée(s).\n",
      "Scrolling (total : 5)...\n",
      "1 2 3 4 5 \n",
      "5 nouvelles traces trouvées.\n"
     ]
    }
   ],
   "source": [
    "path=main_path\n",
    "pilot=\"AdrienM\"\n",
    "repertoire_pilote = path + pilot\n",
    "list_of_known_traces = python_functions.initiate_search(main_repertoire=repertoire_pilote)\n",
    "\n",
    "new_navs, dict_new_navs = python_functions.get_all_navs(pilote=pilot, known_traces=list_of_known_traces)"
   ]
  },
  {
   "cell_type": "code",
   "execution_count": 16,
   "metadata": {},
   "outputs": [
    {
     "data": {
      "text/plain": [
       "'2190658'"
      ]
     },
     "execution_count": 16,
     "metadata": {},
     "output_type": "execute_result"
    }
   ],
   "source": [
    "dict_new_navs[list(dict_new_navs.keys())[i]][\"num_activite\"]"
   ]
  },
  {
   "cell_type": "code",
   "execution_count": 51,
   "metadata": {},
   "outputs": [],
   "source": [
    "def get_zip_adresses(\n",
    "    pilote: str, traces: dict, base_url: str = \"https://www.syride.com/fr/pilotes/\"\n",
    ") -> dict:\n",
    "    \"\"\"\n",
    "    Récupère l'adresse du fichier ZIP\n",
    "    \"\"\"\n",
    "    chrome_options = Options()\n",
    "    chrome_options.add_argument(\n",
    "        \"--headless\"\n",
    "    )  # Exécuter le navigateur en mode headless (sans interface graphique)\n",
    "    driver = webdriver.Chrome(options=chrome_options)\n",
    "\n",
    "    # Charger la page\n",
    "    url = base_url + pilote\n",
    "\n",
    "    updated_dict_navs = {}\n",
    "    for i, dict_nav in enumerate(traces.items()):\n",
    "        trace=dict_nav[0]\n",
    "        dict_nav = dict_nav[1]\n",
    "        print(f\"{i+1} \", end=\"\", flush=True)\n",
    "        url1 = url + \"/\" + trace\n",
    "\n",
    "        driver.get(url1)\n",
    "\n",
    "        iframe_selector = \"popupIframe\"\n",
    "        iframe = driver.find_element(By.ID, iframe_selector)\n",
    "\n",
    "        # Basculer vers l'iframe\n",
    "        driver.switch_to.frame(iframe)\n",
    "\n",
    "        liens_iframe = driver.find_elements(By.TAG_NAME, \"a\")\n",
    "        liens_download_zip = [\n",
    "            lien.get_attribute(\"href\")\n",
    "            for lien in liens_iframe\n",
    "            if \"downloadZIP\" in lien.get_attribute(\"href\")\n",
    "        ]\n",
    "\n",
    "        flight_datas_temp = driver.find_elements(By.CLASS_NAME, \"volTexte\")\n",
    "        flight_datas = [element.text for element in flight_datas_temp]\n",
    "\n",
    "        distance_cumulee, vitesse_max, vitesse_moyenne, plafond, gain, vario_max, g_max = python_functions.extract_flight_data2(flight_data=flight_datas)\n",
    "\n",
    "        dict_nav[\"adresse_zip\"] = liens_download_zip[0]\n",
    "        dict_nav[\"distance_cumulee\"] = distance_cumulee\n",
    "        dict_nav[\"vitesse_max\"] = vitesse_max\n",
    "        dict_nav[\"vitesse_moyenne\"] = vitesse_moyenne\n",
    "        dict_nav[\"plafond\"] = plafond\n",
    "        dict_nav[\"gain\"] = gain\n",
    "        dict_nav[\"vario_max\"] = vario_max\n",
    "        dict_nav[\"g_max\"] = g_max\n",
    "    \n",
    "        updated_dict_navs[trace] = dict_nav\n",
    "        \n",
    "        driver.switch_to.default_content()\n",
    "\n",
    "    print(\"\")\n",
    "\n",
    "    # Fermer le navigateur Selenium\n",
    "    driver.quit()\n",
    "\n",
    "    return updated_dict_navs"
   ]
  },
  {
   "cell_type": "code",
   "execution_count": 16,
   "metadata": {},
   "outputs": [
    {
     "data": {
      "text/plain": [
       "{'1934386': {'pilote': 'AdrienM',\n",
       "  'num_activite': '1934386',\n",
       "  'types': 'Vol moteur',\n",
       "  'site': 'Magnac Lavalette Treuil',\n",
       "  'date': '10/12/2022',\n",
       "  'heure': '15h04',\n",
       "  'flight_time': '00:15:08',\n",
       "  'voile': 'Daytona',\n",
       "  'distance': '8',\n",
       "  'instrument': 'Evolution'}}"
      ]
     },
     "execution_count": 16,
     "metadata": {},
     "output_type": "execute_result"
    }
   ],
   "source": [
    "test_dict = {}\n",
    "test_dict[f\"{list(dict_new_navs.keys())[0]}\"] = dict_new_navs[list(dict_new_navs.keys())[0]]\n",
    "#test_dict[f\"{list(dict_new_navs.keys())[1]}\"] = dict_new_navs[list(dict_new_navs.keys())[1]]\n",
    "test_dict"
   ]
  },
  {
   "cell_type": "code",
   "execution_count": 19,
   "metadata": {},
   "outputs": [
    {
     "data": {
      "text/plain": [
       "['Date : 10/12/2022',\n",
       " 'Décollage : Fayard ( France / Nouvelle-Aquitaine)',\n",
       " 'Voile : Daytona (ITV )',\n",
       " 'Nom du vol : 10-12-2022',\n",
       " 'Instrument : Evo (v2.93)',\n",
       " 'Fichiers : IGC, Google Earth, ZIP',\n",
       " \"Qui j'ai croisé ?\",\n",
       " 'Distance : 8km',\n",
       " 'Distance cumulée : 10km',\n",
       " 'Vitesse max : 57km/h',\n",
       " 'Vitesse moyenne : 31.7km/h',\n",
       " 'Plafond : 638m',\n",
       " 'Gain : 500m',\n",
       " 'Temps de vol : 00:15:08s',\n",
       " 'Vario max : 3.4m/s',\n",
       " 'G max : 1.2g']"
      ]
     },
     "execution_count": 19,
     "metadata": {},
     "output_type": "execute_result"
    }
   ],
   "source": [
    "flight_datas"
   ]
  },
  {
   "cell_type": "code",
   "execution_count": 21,
   "metadata": {},
   "outputs": [],
   "source": [
    "def extract_flight_data2(flight_data: str):\n",
    "    def extract_text_flight_data(text: str, ind_end: int, ind_start: int = 1):\n",
    "        try:\n",
    "            text_temp = text.split(\":\")[1]\n",
    "            text = text_temp[ind_start:-ind_end]\n",
    "        except Exception as excep:\n",
    "            print(str(excep))\n",
    "            text = \"None\"\n",
    "        return text\n",
    "    \n",
    "    def extract_site(text: str) -> str:\n",
    "        try:\n",
    "            # Trouver l'index du premier \":\" puis 1ere parenthese dans la chaîne\n",
    "            index_de_ponct = text.find(\":\")\n",
    "            index_premiere_parenthese = text.find(\"(\", index_de_ponct)\n",
    "            # Extraire le texte entre le premier \":\" et la première parenthèse\n",
    "            texte_extrait = text[index_de_ponct + 1 : index_premiere_parenthese].strip()\n",
    "        except Exception as excep:\n",
    "            print(str(excep))\n",
    "            texte_extrait = \"None\"\n",
    "        return texte_extrait\n",
    "\n",
    "    def extract_flight_duration(fl_time_data: str) -> str:\n",
    "        try:\n",
    "            fl_time_temp = fl_time_data.split(\":\")[1:]\n",
    "            fl_time = fl_time_temp[0] + \":\" + fl_time_temp[1] + \":\" + fl_time_temp[2]\n",
    "            fl_time = fl_time[1:-1]\n",
    "        except Exception as excep:\n",
    "            print(str(excep))\n",
    "            fl_time = \"None\"\n",
    "        return fl_time\n",
    "\n",
    "    date_act = extract_text_flight_data(\n",
    "        text=flight_data[0], ind_end=1\n",
    "    )\n",
    "    site_deco = extract_site(flight_data[1])\n",
    "    distance = extract_text_flight_data(\n",
    "        text=flight_data[7], ind_end=2\n",
    "    )\n",
    "    distance_cumulee = extract_text_flight_data(\n",
    "        text=flight_data[8], ind_end=2\n",
    "    )\n",
    "    vitesse_max = extract_text_flight_data(\n",
    "        text=flight_data[9], ind_end=4\n",
    "    )\n",
    "    vitesse_moyenne = extract_text_flight_data(\n",
    "        text=flight_data[10], ind_end=4\n",
    "    )\n",
    "    plafond = extract_text_flight_data(text=flight_data[11], ind_end=1)\n",
    "    gain = extract_text_flight_data(text=flight_data[12], ind_end=1)\n",
    "    flight_duration = extract_flight_duration(fl_time_data=flight_data[13])\n",
    "    vario_max = extract_text_flight_data(text=flight_data[14], ind_end=3)\n",
    "    g_max = extract_text_flight_data(text=flight_data[15], ind_end=1)\n",
    "\n",
    "    return (\n",
    "        date_act,\n",
    "        site_deco,\n",
    "        distance,\n",
    "        distance_cumulee,\n",
    "        vitesse_max,\n",
    "        vitesse_moyenne,\n",
    "        plafond,\n",
    "        gain,\n",
    "        flight_duration,\n",
    "        vario_max,\n",
    "        g_max,\n",
    "    )"
   ]
  },
  {
   "cell_type": "code",
   "execution_count": 22,
   "metadata": {},
   "outputs": [
    {
     "data": {
      "text/plain": [
       "('10/12/202',\n",
       " 'Fayard',\n",
       " '8',\n",
       " '10',\n",
       " '57',\n",
       " '31.7',\n",
       " '638',\n",
       " '500',\n",
       " '00:15:08',\n",
       " '3.4',\n",
       " '1.2')"
      ]
     },
     "execution_count": 22,
     "metadata": {},
     "output_type": "execute_result"
    }
   ],
   "source": [
    "extract_flight_data2(flight_data=flight_datas)"
   ]
  },
  {
   "cell_type": "code",
   "execution_count": 23,
   "metadata": {},
   "outputs": [
    {
     "name": "stdout",
     "output_type": "stream",
     "text": [
      "1 \n"
     ]
    }
   ],
   "source": [
    "base_url: str = \"https://www.syride.com/fr/pilotes/\"\n",
    "pilote=\"AdrienM\"\n",
    "\n",
    "chrome_options = Options()\n",
    "chrome_options.add_argument(\n",
    "    \"--headless\"\n",
    ")  # Exécuter le navigateur en mode headless (sans interface graphique)\n",
    "driver = webdriver.Chrome(options=chrome_options)\n",
    "\n",
    "# Charger la page\n",
    "url = base_url + pilote\n",
    "\n",
    "traces = test_dict\n",
    "\n",
    "updated_dict_navs = {}\n",
    "for i, dict_nav in enumerate(traces.items()):\n",
    "    trace=dict_nav[0]\n",
    "    dict_nav = dict_nav[1]\n",
    "    print(f\"{i+1} \", end=\"\", flush=True)\n",
    "    url1 = url + \"/\" + trace\n",
    "\n",
    "    driver.get(url1)\n",
    "\n",
    "    iframe_selector = \"popupIframe\"\n",
    "    iframe = driver.find_element(By.ID, iframe_selector)\n",
    "\n",
    "    # Basculer vers l'iframe\n",
    "    driver.switch_to.frame(iframe)\n",
    "\n",
    "    liens_iframe = driver.find_elements(By.TAG_NAME, \"a\")\n",
    "    liens_download_zip = [\n",
    "        lien.get_attribute(\"href\")\n",
    "        for lien in liens_iframe\n",
    "        if \"downloadZIP\" in lien.get_attribute(\"href\")\n",
    "    ]\n",
    "\n",
    "    flight_datas_temp = driver.find_elements(By.CLASS_NAME, \"volTexte\")\n",
    "    flight_datas = [element.text for element in flight_datas_temp]\n",
    "\n",
    "    date_act, site_deco, distance, distance_cumulee, vitesse_max, vitesse_moyenne, plafond, gain, flight_duration, vario_max, g_max = python_functions.extract_flight_data2(flight_data=flight_datas)\n",
    "\n",
    "    dict_nav[\"date_activite\"] = date_act\n",
    "    dict_nav[\"site_activite\"] = site_deco\n",
    "    dict_nav[\"distance_activite\"] = distance\n",
    "    dict_nav[\"distance_cumulee\"] = distance_cumulee\n",
    "    dict_nav[\"vitesse_max\"] = vitesse_max\n",
    "    dict_nav[\"vitesse_moyenne\"] = vitesse_moyenne\n",
    "    dict_nav[\"plafond\"] = plafond\n",
    "    dict_nav[\"gain\"] = gain\n",
    "    dict_nav[\"duree_vol\"] = flight_duration\n",
    "    dict_nav[\"vario_max\"] = vario_max\n",
    "    dict_nav[\"g_max\"] = g_max\n",
    "    dict_nav[\"adresse_zip\"] = liens_download_zip[0]\n",
    "    \n",
    "    updated_dict_navs[trace] = dict_nav\n",
    "    #driver.switch_to.default_content()\n",
    "\n",
    "print(\"\")\n",
    "\n",
    "    # Fermer le navigateur Selenium\n",
    "driver.quit()\n"
   ]
  },
  {
   "cell_type": "code",
   "execution_count": 24,
   "metadata": {},
   "outputs": [
    {
     "data": {
      "text/plain": [
       "{'1934386': {'pilote': 'AdrienM',\n",
       "  'num_activite': '1934386',\n",
       "  'types': 'Vol moteur',\n",
       "  'site': 'Magnac Lavalette Treuil',\n",
       "  'date': '10/12/2022',\n",
       "  'heure': '15h04',\n",
       "  'flight_time': '00:15:08',\n",
       "  'voile': 'Daytona',\n",
       "  'distance': '8',\n",
       "  'instrument': 'Evolution',\n",
       "  'date_activite': '10/12/202',\n",
       "  'site_activite': 'Fayard',\n",
       "  'distance_activite': '8',\n",
       "  'distance_cumulee': '10',\n",
       "  'vitesse_max': '57',\n",
       "  'vitesse_moyenne': '31.7',\n",
       "  'plafond': '638',\n",
       "  'gain': '500',\n",
       "  'duree_vol': '00:15:08',\n",
       "  'vario_max': '3.4',\n",
       "  'g_max': '1.2',\n",
       "  'adresse_zip': 'https://www.syride.com/scripts/downloadZIP.php?idSession=1934386&key=0351803005885'}}"
      ]
     },
     "execution_count": 24,
     "metadata": {},
     "output_type": "execute_result"
    }
   ],
   "source": [
    "updated_dict_navs"
   ]
  },
  {
   "cell_type": "code",
   "execution_count": 54,
   "metadata": {},
   "outputs": [
    {
     "name": "stdout",
     "output_type": "stream",
     "text": [
      "1 2 \n"
     ]
    },
    {
     "data": {
      "text/plain": [
       "{'2190658': {'pilote': 'AdrienM',\n",
       "  'num_activite': '2190658',\n",
       "  'types': 'Vol moteur',\n",
       "  'site': 'Site Secondigne Sur Belle 01',\n",
       "  'date': '22/07/2023',\n",
       "  'heure': '09h08',\n",
       "  'flight_time': '00:39:38',\n",
       "  'voile': 'Daytona',\n",
       "  'distance': '22',\n",
       "  'altitude': '542',\n",
       "  'instrument': 'Evolution',\n",
       "  'adresse_zip': 'https://www.syride.com/scripts/downloadZIP.php?idSession=2190658&key=0358665965364',\n",
       "  'distance_cumulee': '24',\n",
       "  'vitesse_max': '67',\n",
       "  'vitesse_moyenne': '33.3',\n",
       "  'plafond': '542',\n",
       "  'gain': '497',\n",
       "  'vario_max': '3.1',\n",
       "  'g_max': '1.2'},\n",
       " '2181222': {'pilote': 'AdrienM',\n",
       "  'num_activite': '2181222',\n",
       "  'types': 'Vol moteur',\n",
       "  'site': 'Site Secondigne Sur Belle 01',\n",
       "  'date': '16/07/2023',\n",
       "  'heure': '08h42',\n",
       "  'flight_time': '01:04:20',\n",
       "  'voile': 'Daytona',\n",
       "  'distance': '37',\n",
       "  'altitude': '733',\n",
       "  'instrument': 'Evolution',\n",
       "  'adresse_zip': 'https://www.syride.com/scripts/downloadZIP.php?idSession=2181222&key=0358413275648',\n",
       "  'distance_cumulee': '46',\n",
       "  'vitesse_max': '82',\n",
       "  'vitesse_moyenne': '34.5',\n",
       "  'plafond': '733',\n",
       "  'gain': '603',\n",
       "  'vario_max': '3.3',\n",
       "  'g_max': '1.4'}}"
      ]
     },
     "execution_count": 54,
     "metadata": {},
     "output_type": "execute_result"
    }
   ],
   "source": [
    "temp_dict = get_zip_adresses(pilote=\"Adrien\", traces=test_dict)\n",
    "temp_dict"
   ]
  },
  {
   "cell_type": "code",
   "execution_count": 70,
   "metadata": {},
   "outputs": [],
   "source": [
    "def save_flight_data(main_repertoire:str, flight_data: dict):\n",
    "    num_act = flight_data[\"num_activite\"]\n",
    "    file_name = main_repertoire + \"/traces/\" + f\"{num_act}/\" + f\"{num_act}.json\"\n",
    "    with open(file_name, 'w') as fp:\n",
    "        json.dump(flight_data, fp)\n",
    "    print(\"Données de vol sauvegardées\")"
   ]
  },
  {
   "cell_type": "code",
   "execution_count": 71,
   "metadata": {},
   "outputs": [
    {
     "name": "stdout",
     "output_type": "stream",
     "text": [
      "/Users/Adrien/Documents/paramoteur/syride/analyze_traces/syride_traces/AdrienM/traces/2190658/2190658.json\n",
      "Données de vol sauvegardées\n"
     ]
    }
   ],
   "source": [
    "save_flight_data(main_repertoire=repertoire_pilote, flight_data=temp_dict[f\"{list(temp_dict.keys())[0]}\"])"
   ]
  },
  {
   "cell_type": "code",
   "execution_count": 59,
   "metadata": {},
   "outputs": [
    {
     "name": "stdout",
     "output_type": "stream",
     "text": [
      "Téléchargement des traces (total 2)...\n",
      "{'pilote': 'AdrienM', 'num_activite': '2190658', 'types': 'Vol moteur', 'site': 'Site Secondigne Sur Belle 01', 'date': '22/07/2023', 'heure': '09h08', 'flight_time': '00:39:38', 'voile': 'Daytona', 'distance': '22', 'altitude': '542', 'instrument': 'Evolution', 'adresse_zip': 'https://www.syride.com/scripts/downloadZIP.php?idSession=2190658&key=0358665965364', 'distance_cumulee': '24', 'vitesse_max': '67', 'vitesse_moyenne': '33.3', 'plafond': '542', 'gain': '497', 'vario_max': '3.1', 'g_max': '1.2'}\n",
      "1 "
     ]
    },
    {
     "name": "stdout",
     "output_type": "stream",
     "text": [
      "Archive extraite dans le répertoire : 2190658\n",
      "{'pilote': 'AdrienM', 'num_activite': '2181222', 'types': 'Vol moteur', 'site': 'Site Secondigne Sur Belle 01', 'date': '16/07/2023', 'heure': '08h42', 'flight_time': '01:04:20', 'voile': 'Daytona', 'distance': '37', 'altitude': '733', 'instrument': 'Evolution', 'adresse_zip': 'https://www.syride.com/scripts/downloadZIP.php?idSession=2181222&key=0358413275648', 'distance_cumulee': '46', 'vitesse_max': '82', 'vitesse_moyenne': '34.5', 'plafond': '733', 'gain': '603', 'vario_max': '3.3', 'g_max': '1.4'}\n",
      "2 Archive extraite dans le répertoire : 2181222\n",
      "\n"
     ]
    }
   ],
   "source": [
    "print(f\"Téléchargement des traces (total {len(temp_dict)})...\")\n",
    "for i, dict_item in enumerate(temp_dict.items()):\n",
    "    nav = dict_item[0]\n",
    "    data_nav = dict_item[1]\n",
    "    print(data_nav)\n",
    "    link = data_nav[\"adresse_zip\"]\n",
    "    print(f\"{i+1} \", end=\"\", flush=True)\n",
    "    python_functions.download_traces(main_repertoire=repertoire_pilote, nav=nav, link=link)\n",
    "print(\"\")"
   ]
  },
  {
   "cell_type": "code",
   "execution_count": 57,
   "metadata": {},
   "outputs": [
    {
     "data": {
      "text/plain": [
       "{'2190658': {'pilote': 'AdrienM',\n",
       "  'num_activite': '2190658',\n",
       "  'types': 'Vol moteur',\n",
       "  'site': 'Site Secondigne Sur Belle 01',\n",
       "  'date': '22/07/2023',\n",
       "  'heure': '09h08',\n",
       "  'flight_time': '00:39:38',\n",
       "  'voile': 'Daytona',\n",
       "  'distance': '22',\n",
       "  'altitude': '542',\n",
       "  'instrument': 'Evolution',\n",
       "  'adresse_zip': 'https://www.syride.com/scripts/downloadZIP.php?idSession=2190658&key=0358665965364',\n",
       "  'distance_cumulee': '24',\n",
       "  'vitesse_max': '67',\n",
       "  'vitesse_moyenne': '33.3',\n",
       "  'plafond': '542',\n",
       "  'gain': '497',\n",
       "  'vario_max': '3.1',\n",
       "  'g_max': '1.2'}}"
      ]
     },
     "execution_count": 57,
     "metadata": {},
     "output_type": "execute_result"
    }
   ],
   "source": [
    "\n"
   ]
  },
  {
   "cell_type": "code",
   "execution_count": 61,
   "metadata": {},
   "outputs": [
    {
     "data": {
      "text/plain": [
       "'/Users/Adrien/Documents/paramoteur/syride/analyze_traces/syride_traces/AdrienM'"
      ]
     },
     "execution_count": 61,
     "metadata": {},
     "output_type": "execute_result"
    }
   ],
   "source": [
    "repertoire_pilote"
   ]
  },
  {
   "cell_type": "code",
   "execution_count": null,
   "metadata": {},
   "outputs": [],
   "source": []
  },
  {
   "cell_type": "code",
   "execution_count": null,
   "metadata": {},
   "outputs": [],
   "source": []
  },
  {
   "cell_type": "code",
   "execution_count": null,
   "metadata": {},
   "outputs": [],
   "source": []
  }
 ],
 "metadata": {
  "kernelspec": {
   "display_name": "syride_traces_py39",
   "language": "python",
   "name": "python3"
  },
  "language_info": {
   "codemirror_mode": {
    "name": "ipython",
    "version": 3
   },
   "file_extension": ".py",
   "mimetype": "text/x-python",
   "name": "python",
   "nbconvert_exporter": "python",
   "pygments_lexer": "ipython3",
   "version": "3.9.9"
  },
  "orig_nbformat": 4
 },
 "nbformat": 4,
 "nbformat_minor": 2
}
